{
 "cells": [
  {
   "cell_type": "code",
   "execution_count": 17,
   "id": "59b42d02",
   "metadata": {},
   "outputs": [],
   "source": [
    "#!pip install spacy"
   ]
  },
  {
   "cell_type": "code",
   "execution_count": 19,
   "id": "e2c0fd9b",
   "metadata": {},
   "outputs": [],
   "source": [
    "#!python -m spacy download ru_core_news_md"
   ]
  },
  {
   "cell_type": "code",
   "execution_count": 20,
   "id": "35db52e9",
   "metadata": {},
   "outputs": [],
   "source": [
    "import spacy"
   ]
  },
  {
   "cell_type": "code",
   "execution_count": 21,
   "id": "1818c73a",
   "metadata": {},
   "outputs": [],
   "source": [
    "quary = 'красная куртка'"
   ]
  },
  {
   "cell_type": "code",
   "execution_count": 22,
   "id": "89192b9e",
   "metadata": {},
   "outputs": [],
   "source": [
    "nlp = spacy.load(\"ru_core_news_md\")"
   ]
  },
  {
   "cell_type": "code",
   "execution_count": 25,
   "id": "b8cb47e1",
   "metadata": {},
   "outputs": [],
   "source": [
    "spacy_results = nlp(quary)"
   ]
  },
  {
   "cell_type": "code",
   "execution_count": 27,
   "id": "69ee4279",
   "metadata": {},
   "outputs": [
    {
     "data": {
      "text/plain": [
       "[('красный', 'ADJ'), ('куртка', 'NOUN')]"
      ]
     },
     "execution_count": 27,
     "metadata": {},
     "output_type": "execute_result"
    }
   ],
   "source": [
    "[(token.lemma_, token.pos_) for token in spacy_results[:7]]"
   ]
  },
  {
   "cell_type": "code",
   "execution_count": 26,
   "id": "b65ce964",
   "metadata": {},
   "outputs": [
    {
     "name": "stdout",
     "output_type": "stream",
     "text": [
      "красный куртка\n"
     ]
    }
   ],
   "source": [
    "print(' '.join([token.lemma_ for token in spacy_results]))"
   ]
  }
 ],
 "metadata": {
  "kernelspec": {
   "display_name": "Python 3 (ipykernel)",
   "language": "python",
   "name": "python3"
  },
  "language_info": {
   "codemirror_mode": {
    "name": "ipython",
    "version": 3
   },
   "file_extension": ".py",
   "mimetype": "text/x-python",
   "name": "python",
   "nbconvert_exporter": "python",
   "pygments_lexer": "ipython3",
   "version": "3.7.9"
  }
 },
 "nbformat": 4,
 "nbformat_minor": 5
}
