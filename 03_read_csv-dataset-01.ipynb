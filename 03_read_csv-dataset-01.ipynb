{
 "cells": [
  {
   "cell_type": "code",
   "execution_count": 1,
   "id": "cb40ff73",
   "metadata": {},
   "outputs": [],
   "source": [
    "#!pip install faiss-cpu"
   ]
  },
  {
   "cell_type": "code",
   "execution_count": 2,
   "id": "05ff4b45",
   "metadata": {},
   "outputs": [],
   "source": [
    "#!pip install gensim"
   ]
  },
  {
   "cell_type": "code",
   "execution_count": 3,
   "id": "9769f15a",
   "metadata": {},
   "outputs": [],
   "source": [
    "#!pip install pandas"
   ]
  },
  {
   "cell_type": "code",
   "execution_count": 4,
   "id": "e85cbf35",
   "metadata": {},
   "outputs": [],
   "source": [
    "import pandas as pd\n",
    "import pickle\n",
    "import spacy"
   ]
  },
  {
   "cell_type": "code",
   "execution_count": 5,
   "id": "105c143c",
   "metadata": {},
   "outputs": [],
   "source": [
    "from wildhack_modules.pipeline import vektors_model_fasttext, vektors_fasttext_vectorize\n",
    "from wildhack_modules.pipeline import create_common_futures_learn, save_numpy_df\n",
    "from wildhack_modules.pipeline import create_common_futures_lemma"
   ]
  },
  {
   "cell_type": "code",
   "execution_count": 6,
   "id": "1e043c70",
   "metadata": {},
   "outputs": [
    {
     "name": "stdout",
     "output_type": "stream",
     "text": [
      "01_read_csv.ipynb\t      dataset\tresult\t\t  wildhack.wpr\r\n",
      "02-mystem.ipynb\t\t      datasets\tserver_old.py\t  wildhack.wpu\r\n",
      "03_read_csv-dataset-01.ipynb  models\ttmp\r\n",
      "04-compare-quary.ipynb\t      presents\twildhack_modules\r\n"
     ]
    }
   ],
   "source": [
    "!ls"
   ]
  },
  {
   "cell_type": "code",
   "execution_count": 7,
   "id": "3ea9badb",
   "metadata": {},
   "outputs": [],
   "source": [
    "nlp = spacy.load(\"ru_core_news_md\")"
   ]
  },
  {
   "cell_type": "code",
   "execution_count": 8,
   "id": "a4f700f3",
   "metadata": {},
   "outputs": [],
   "source": [
    "df = pd.read_csv('./dataset/query_popularity.csv', sep=',')"
   ]
  },
  {
   "cell_type": "code",
   "execution_count": 9,
   "id": "8defacdb",
   "metadata": {},
   "outputs": [],
   "source": [
    "#df = df[:100]"
   ]
  },
  {
   "cell_type": "code",
   "execution_count": 10,
   "id": "fe16307e",
   "metadata": {},
   "outputs": [
    {
     "data": {
      "text/html": [
       "<div>\n",
       "<style scoped>\n",
       "    .dataframe tbody tr th:only-of-type {\n",
       "        vertical-align: middle;\n",
       "    }\n",
       "\n",
       "    .dataframe tbody tr th {\n",
       "        vertical-align: top;\n",
       "    }\n",
       "\n",
       "    .dataframe thead th {\n",
       "        text-align: right;\n",
       "    }\n",
       "</style>\n",
       "<table border=\"1\" class=\"dataframe\">\n",
       "  <thead>\n",
       "    <tr style=\"text-align: right;\">\n",
       "      <th></th>\n",
       "      <th>query</th>\n",
       "      <th>query_popularity</th>\n",
       "    </tr>\n",
       "  </thead>\n",
       "  <tbody>\n",
       "    <tr>\n",
       "      <th>0</th>\n",
       "      <td>ноутбук</td>\n",
       "      <td>10</td>\n",
       "    </tr>\n",
       "    <tr>\n",
       "      <th>1</th>\n",
       "      <td>куртка женская осенняя</td>\n",
       "      <td>10</td>\n",
       "    </tr>\n",
       "    <tr>\n",
       "      <th>2</th>\n",
       "      <td>ботинки женские</td>\n",
       "      <td>10</td>\n",
       "    </tr>\n",
       "    <tr>\n",
       "      <th>3</th>\n",
       "      <td>видеокарта</td>\n",
       "      <td>10</td>\n",
       "    </tr>\n",
       "    <tr>\n",
       "      <th>4</th>\n",
       "      <td>пальто женское осеннее</td>\n",
       "      <td>10</td>\n",
       "    </tr>\n",
       "    <tr>\n",
       "      <th>...</th>\n",
       "      <td>...</td>\n",
       "      <td>...</td>\n",
       "    </tr>\n",
       "    <tr>\n",
       "      <th>336983</th>\n",
       "      <td>конструктор робо-динозавры</td>\n",
       "      <td>1</td>\n",
       "    </tr>\n",
       "    <tr>\n",
       "      <th>336984</th>\n",
       "      <td>чика</td>\n",
       "      <td>1</td>\n",
       "    </tr>\n",
       "    <tr>\n",
       "      <th>336985</th>\n",
       "      <td>Дешевый товар</td>\n",
       "      <td>1</td>\n",
       "    </tr>\n",
       "    <tr>\n",
       "      <th>336986</th>\n",
       "      <td>макса</td>\n",
       "      <td>1</td>\n",
       "    </tr>\n",
       "    <tr>\n",
       "      <th>336987</th>\n",
       "      <td>чехол для телефон</td>\n",
       "      <td>1</td>\n",
       "    </tr>\n",
       "  </tbody>\n",
       "</table>\n",
       "<p>336988 rows × 2 columns</p>\n",
       "</div>"
      ],
      "text/plain": [
       "                             query  query_popularity\n",
       "0                          ноутбук                10\n",
       "1           куртка женская осенняя                10\n",
       "2                  ботинки женские                10\n",
       "3                       видеокарта                10\n",
       "4           пальто женское осеннее                10\n",
       "...                            ...               ...\n",
       "336983  конструктор робо-динозавры                 1\n",
       "336984                        чика                 1\n",
       "336985               Дешевый товар                 1\n",
       "336986                       макса                 1\n",
       "336987           чехол для телефон                 1\n",
       "\n",
       "[336988 rows x 2 columns]"
      ]
     },
     "execution_count": 10,
     "metadata": {},
     "output_type": "execute_result"
    }
   ],
   "source": [
    "df"
   ]
  },
  {
   "cell_type": "code",
   "execution_count": 11,
   "id": "273668f0",
   "metadata": {},
   "outputs": [],
   "source": [
    "df['drop'] = df['query'].apply(lambda x: True if isinstance(x, str) else False)"
   ]
  },
  {
   "cell_type": "code",
   "execution_count": 12,
   "id": "a4f3a859",
   "metadata": {},
   "outputs": [
    {
     "data": {
      "text/html": [
       "<div>\n",
       "<style scoped>\n",
       "    .dataframe tbody tr th:only-of-type {\n",
       "        vertical-align: middle;\n",
       "    }\n",
       "\n",
       "    .dataframe tbody tr th {\n",
       "        vertical-align: top;\n",
       "    }\n",
       "\n",
       "    .dataframe thead th {\n",
       "        text-align: right;\n",
       "    }\n",
       "</style>\n",
       "<table border=\"1\" class=\"dataframe\">\n",
       "  <thead>\n",
       "    <tr style=\"text-align: right;\">\n",
       "      <th></th>\n",
       "      <th>query</th>\n",
       "      <th>query_popularity</th>\n",
       "      <th>drop</th>\n",
       "    </tr>\n",
       "  </thead>\n",
       "  <tbody>\n",
       "    <tr>\n",
       "      <th>0</th>\n",
       "      <td>ноутбук</td>\n",
       "      <td>10</td>\n",
       "      <td>True</td>\n",
       "    </tr>\n",
       "    <tr>\n",
       "      <th>1</th>\n",
       "      <td>куртка женская осенняя</td>\n",
       "      <td>10</td>\n",
       "      <td>True</td>\n",
       "    </tr>\n",
       "    <tr>\n",
       "      <th>2</th>\n",
       "      <td>ботинки женские</td>\n",
       "      <td>10</td>\n",
       "      <td>True</td>\n",
       "    </tr>\n",
       "    <tr>\n",
       "      <th>3</th>\n",
       "      <td>видеокарта</td>\n",
       "      <td>10</td>\n",
       "      <td>True</td>\n",
       "    </tr>\n",
       "    <tr>\n",
       "      <th>4</th>\n",
       "      <td>пальто женское осеннее</td>\n",
       "      <td>10</td>\n",
       "      <td>True</td>\n",
       "    </tr>\n",
       "    <tr>\n",
       "      <th>...</th>\n",
       "      <td>...</td>\n",
       "      <td>...</td>\n",
       "      <td>...</td>\n",
       "    </tr>\n",
       "    <tr>\n",
       "      <th>336983</th>\n",
       "      <td>конструктор робо-динозавры</td>\n",
       "      <td>1</td>\n",
       "      <td>True</td>\n",
       "    </tr>\n",
       "    <tr>\n",
       "      <th>336984</th>\n",
       "      <td>чика</td>\n",
       "      <td>1</td>\n",
       "      <td>True</td>\n",
       "    </tr>\n",
       "    <tr>\n",
       "      <th>336985</th>\n",
       "      <td>Дешевый товар</td>\n",
       "      <td>1</td>\n",
       "      <td>True</td>\n",
       "    </tr>\n",
       "    <tr>\n",
       "      <th>336986</th>\n",
       "      <td>макса</td>\n",
       "      <td>1</td>\n",
       "      <td>True</td>\n",
       "    </tr>\n",
       "    <tr>\n",
       "      <th>336987</th>\n",
       "      <td>чехол для телефон</td>\n",
       "      <td>1</td>\n",
       "      <td>True</td>\n",
       "    </tr>\n",
       "  </tbody>\n",
       "</table>\n",
       "<p>336988 rows × 3 columns</p>\n",
       "</div>"
      ],
      "text/plain": [
       "                             query  query_popularity  drop\n",
       "0                          ноутбук                10  True\n",
       "1           куртка женская осенняя                10  True\n",
       "2                  ботинки женские                10  True\n",
       "3                       видеокарта                10  True\n",
       "4           пальто женское осеннее                10  True\n",
       "...                            ...               ...   ...\n",
       "336983  конструктор робо-динозавры                 1  True\n",
       "336984                        чика                 1  True\n",
       "336985               Дешевый товар                 1  True\n",
       "336986                       макса                 1  True\n",
       "336987           чехол для телефон                 1  True\n",
       "\n",
       "[336988 rows x 3 columns]"
      ]
     },
     "execution_count": 12,
     "metadata": {},
     "output_type": "execute_result"
    }
   ],
   "source": [
    "df"
   ]
  },
  {
   "cell_type": "code",
   "execution_count": 13,
   "id": "b6f55f81",
   "metadata": {},
   "outputs": [],
   "source": [
    "df = df[df['drop']==True]"
   ]
  },
  {
   "cell_type": "code",
   "execution_count": 14,
   "id": "28cf4ec8",
   "metadata": {},
   "outputs": [
    {
     "data": {
      "text/html": [
       "<div>\n",
       "<style scoped>\n",
       "    .dataframe tbody tr th:only-of-type {\n",
       "        vertical-align: middle;\n",
       "    }\n",
       "\n",
       "    .dataframe tbody tr th {\n",
       "        vertical-align: top;\n",
       "    }\n",
       "\n",
       "    .dataframe thead th {\n",
       "        text-align: right;\n",
       "    }\n",
       "</style>\n",
       "<table border=\"1\" class=\"dataframe\">\n",
       "  <thead>\n",
       "    <tr style=\"text-align: right;\">\n",
       "      <th></th>\n",
       "      <th>query</th>\n",
       "      <th>query_popularity</th>\n",
       "      <th>drop</th>\n",
       "    </tr>\n",
       "  </thead>\n",
       "  <tbody>\n",
       "    <tr>\n",
       "      <th>0</th>\n",
       "      <td>ноутбук</td>\n",
       "      <td>10</td>\n",
       "      <td>True</td>\n",
       "    </tr>\n",
       "    <tr>\n",
       "      <th>1</th>\n",
       "      <td>куртка женская осенняя</td>\n",
       "      <td>10</td>\n",
       "      <td>True</td>\n",
       "    </tr>\n",
       "    <tr>\n",
       "      <th>2</th>\n",
       "      <td>ботинки женские</td>\n",
       "      <td>10</td>\n",
       "      <td>True</td>\n",
       "    </tr>\n",
       "    <tr>\n",
       "      <th>3</th>\n",
       "      <td>видеокарта</td>\n",
       "      <td>10</td>\n",
       "      <td>True</td>\n",
       "    </tr>\n",
       "    <tr>\n",
       "      <th>4</th>\n",
       "      <td>пальто женское осеннее</td>\n",
       "      <td>10</td>\n",
       "      <td>True</td>\n",
       "    </tr>\n",
       "    <tr>\n",
       "      <th>...</th>\n",
       "      <td>...</td>\n",
       "      <td>...</td>\n",
       "      <td>...</td>\n",
       "    </tr>\n",
       "    <tr>\n",
       "      <th>336983</th>\n",
       "      <td>конструктор робо-динозавры</td>\n",
       "      <td>1</td>\n",
       "      <td>True</td>\n",
       "    </tr>\n",
       "    <tr>\n",
       "      <th>336984</th>\n",
       "      <td>чика</td>\n",
       "      <td>1</td>\n",
       "      <td>True</td>\n",
       "    </tr>\n",
       "    <tr>\n",
       "      <th>336985</th>\n",
       "      <td>Дешевый товар</td>\n",
       "      <td>1</td>\n",
       "      <td>True</td>\n",
       "    </tr>\n",
       "    <tr>\n",
       "      <th>336986</th>\n",
       "      <td>макса</td>\n",
       "      <td>1</td>\n",
       "      <td>True</td>\n",
       "    </tr>\n",
       "    <tr>\n",
       "      <th>336987</th>\n",
       "      <td>чехол для телефон</td>\n",
       "      <td>1</td>\n",
       "      <td>True</td>\n",
       "    </tr>\n",
       "  </tbody>\n",
       "</table>\n",
       "<p>336987 rows × 3 columns</p>\n",
       "</div>"
      ],
      "text/plain": [
       "                             query  query_popularity  drop\n",
       "0                          ноутбук                10  True\n",
       "1           куртка женская осенняя                10  True\n",
       "2                  ботинки женские                10  True\n",
       "3                       видеокарта                10  True\n",
       "4           пальто женское осеннее                10  True\n",
       "...                            ...               ...   ...\n",
       "336983  конструктор робо-динозавры                 1  True\n",
       "336984                        чика                 1  True\n",
       "336985               Дешевый товар                 1  True\n",
       "336986                       макса                 1  True\n",
       "336987           чехол для телефон                 1  True\n",
       "\n",
       "[336987 rows x 3 columns]"
      ]
     },
     "execution_count": 14,
     "metadata": {},
     "output_type": "execute_result"
    }
   ],
   "source": [
    "df"
   ]
  },
  {
   "cell_type": "code",
   "execution_count": 16,
   "id": "c577357a",
   "metadata": {},
   "outputs": [
    {
     "name": "stderr",
     "output_type": "stream",
     "text": [
      "/home/joefox/data/nextcloud/projects/wildhack/wildhack_modules/pipeline.py:26: SettingWithCopyWarning: \n",
      "A value is trying to be set on a copy of a slice from a DataFrame.\n",
      "Try using .loc[row_indexer,col_indexer] = value instead\n",
      "\n",
      "See the caveats in the documentation: https://pandas.pydata.org/pandas-docs/stable/user_guide/indexing.html#returning-a-view-versus-a-copy\n",
      "  df['learn'] = create_learn_text(df[name_column].values, {'min_token_size':0})\n"
     ]
    }
   ],
   "source": [
    "create_common_futures_learn(df, 'query')"
   ]
  },
  {
   "cell_type": "code",
   "execution_count": 17,
   "id": "9fb3a679",
   "metadata": {},
   "outputs": [
    {
     "name": "stderr",
     "output_type": "stream",
     "text": [
      "/home/joefox/data/nextcloud/projects/wildhack/wildhack_modules/pipeline.py:35: SettingWithCopyWarning: \n",
      "A value is trying to be set on a copy of a slice from a DataFrame.\n",
      "Try using .loc[row_indexer,col_indexer] = value instead\n",
      "\n",
      "See the caveats in the documentation: https://pandas.pydata.org/pandas-docs/stable/user_guide/indexing.html#returning-a-view-versus-a-copy\n",
      "  df['lemma'] = df[name_column].apply(lambda x: [(token.lemma_) for token in nlp(x)]).str.join(' ')\n"
     ]
    }
   ],
   "source": [
    "create_common_futures_lemma(df, 'learn')"
   ]
  },
  {
   "cell_type": "code",
   "execution_count": 18,
   "id": "1bf66ff9",
   "metadata": {},
   "outputs": [
    {
     "data": {
      "text/html": [
       "<div>\n",
       "<style scoped>\n",
       "    .dataframe tbody tr th:only-of-type {\n",
       "        vertical-align: middle;\n",
       "    }\n",
       "\n",
       "    .dataframe tbody tr th {\n",
       "        vertical-align: top;\n",
       "    }\n",
       "\n",
       "    .dataframe thead th {\n",
       "        text-align: right;\n",
       "    }\n",
       "</style>\n",
       "<table border=\"1\" class=\"dataframe\">\n",
       "  <thead>\n",
       "    <tr style=\"text-align: right;\">\n",
       "      <th></th>\n",
       "      <th>query</th>\n",
       "      <th>query_popularity</th>\n",
       "      <th>drop</th>\n",
       "      <th>learn</th>\n",
       "      <th>lemma</th>\n",
       "    </tr>\n",
       "  </thead>\n",
       "  <tbody>\n",
       "    <tr>\n",
       "      <th>0</th>\n",
       "      <td>ноутбук</td>\n",
       "      <td>10</td>\n",
       "      <td>True</td>\n",
       "      <td>ноутбук</td>\n",
       "      <td>ноутбук</td>\n",
       "    </tr>\n",
       "    <tr>\n",
       "      <th>1</th>\n",
       "      <td>куртка женская осенняя</td>\n",
       "      <td>10</td>\n",
       "      <td>True</td>\n",
       "      <td>куртка женская осенняя</td>\n",
       "      <td>куртка женский осенний</td>\n",
       "    </tr>\n",
       "    <tr>\n",
       "      <th>2</th>\n",
       "      <td>ботинки женские</td>\n",
       "      <td>10</td>\n",
       "      <td>True</td>\n",
       "      <td>ботинки женские</td>\n",
       "      <td>ботинок женский</td>\n",
       "    </tr>\n",
       "    <tr>\n",
       "      <th>3</th>\n",
       "      <td>видеокарта</td>\n",
       "      <td>10</td>\n",
       "      <td>True</td>\n",
       "      <td>видеокарта</td>\n",
       "      <td>видеокарта</td>\n",
       "    </tr>\n",
       "    <tr>\n",
       "      <th>4</th>\n",
       "      <td>пальто женское осеннее</td>\n",
       "      <td>10</td>\n",
       "      <td>True</td>\n",
       "      <td>пальто женское осеннее</td>\n",
       "      <td>пальто женский осенний</td>\n",
       "    </tr>\n",
       "    <tr>\n",
       "      <th>...</th>\n",
       "      <td>...</td>\n",
       "      <td>...</td>\n",
       "      <td>...</td>\n",
       "      <td>...</td>\n",
       "      <td>...</td>\n",
       "    </tr>\n",
       "    <tr>\n",
       "      <th>336983</th>\n",
       "      <td>конструктор робо-динозавры</td>\n",
       "      <td>1</td>\n",
       "      <td>True</td>\n",
       "      <td>конструктор робо динозавры</td>\n",
       "      <td>конструктор робо динозавры</td>\n",
       "    </tr>\n",
       "    <tr>\n",
       "      <th>336984</th>\n",
       "      <td>чика</td>\n",
       "      <td>1</td>\n",
       "      <td>True</td>\n",
       "      <td>чика</td>\n",
       "      <td>чик</td>\n",
       "    </tr>\n",
       "    <tr>\n",
       "      <th>336985</th>\n",
       "      <td>Дешевый товар</td>\n",
       "      <td>1</td>\n",
       "      <td>True</td>\n",
       "      <td>дешевый товар</td>\n",
       "      <td>дешёвый товар</td>\n",
       "    </tr>\n",
       "    <tr>\n",
       "      <th>336986</th>\n",
       "      <td>макса</td>\n",
       "      <td>1</td>\n",
       "      <td>True</td>\n",
       "      <td>макса</td>\n",
       "      <td>макс</td>\n",
       "    </tr>\n",
       "    <tr>\n",
       "      <th>336987</th>\n",
       "      <td>чехол для телефон</td>\n",
       "      <td>1</td>\n",
       "      <td>True</td>\n",
       "      <td>чехол для телефон</td>\n",
       "      <td>чехол для телефон</td>\n",
       "    </tr>\n",
       "  </tbody>\n",
       "</table>\n",
       "<p>336987 rows × 5 columns</p>\n",
       "</div>"
      ],
      "text/plain": [
       "                             query  query_popularity  drop  \\\n",
       "0                          ноутбук                10  True   \n",
       "1           куртка женская осенняя                10  True   \n",
       "2                  ботинки женские                10  True   \n",
       "3                       видеокарта                10  True   \n",
       "4           пальто женское осеннее                10  True   \n",
       "...                            ...               ...   ...   \n",
       "336983  конструктор робо-динозавры                 1  True   \n",
       "336984                        чика                 1  True   \n",
       "336985               Дешевый товар                 1  True   \n",
       "336986                       макса                 1  True   \n",
       "336987           чехол для телефон                 1  True   \n",
       "\n",
       "                             learn                       lemma  \n",
       "0                          ноутбук                     ноутбук  \n",
       "1           куртка женская осенняя      куртка женский осенний  \n",
       "2                  ботинки женские             ботинок женский  \n",
       "3                       видеокарта                  видеокарта  \n",
       "4           пальто женское осеннее      пальто женский осенний  \n",
       "...                            ...                         ...  \n",
       "336983  конструктор робо динозавры  конструктор робо динозавры  \n",
       "336984                        чика                         чик  \n",
       "336985               дешевый товар               дешёвый товар  \n",
       "336986                       макса                        макс  \n",
       "336987           чехол для телефон           чехол для телефон  \n",
       "\n",
       "[336987 rows x 5 columns]"
      ]
     },
     "execution_count": 18,
     "metadata": {},
     "output_type": "execute_result"
    }
   ],
   "source": [
    "df"
   ]
  },
  {
   "cell_type": "code",
   "execution_count": 19,
   "id": "a7ef0729",
   "metadata": {},
   "outputs": [],
   "source": [
    "df = df.reset_index(drop = True)"
   ]
  },
  {
   "cell_type": "code",
   "execution_count": 20,
   "id": "96f3f45a",
   "metadata": {},
   "outputs": [],
   "source": [
    "model = vektors_model_fasttext()"
   ]
  },
  {
   "cell_type": "code",
   "execution_count": 21,
   "id": "efb15d12",
   "metadata": {},
   "outputs": [
    {
     "data": {
      "text/plain": [
       "(336987, 300)"
      ]
     },
     "execution_count": 21,
     "metadata": {},
     "output_type": "execute_result"
    }
   ],
   "source": [
    "np_vectors = vektors_fasttext_vectorize(model, df['lemma'])\n",
    "np_vectors.shape"
   ]
  },
  {
   "cell_type": "code",
   "execution_count": 22,
   "id": "e4249f6d",
   "metadata": {},
   "outputs": [],
   "source": [
    "save_numpy_df(df[['query','query_popularity']],np_vectors,'query_popularity')"
   ]
  },
  {
   "cell_type": "code",
   "execution_count": null,
   "id": "040fdb0a",
   "metadata": {},
   "outputs": [],
   "source": []
  }
 ],
 "metadata": {
  "kernelspec": {
   "display_name": "Python 3 (ipykernel)",
   "language": "python",
   "name": "python3"
  },
  "language_info": {
   "codemirror_mode": {
    "name": "ipython",
    "version": 3
   },
   "file_extension": ".py",
   "mimetype": "text/x-python",
   "name": "python",
   "nbconvert_exporter": "python",
   "pygments_lexer": "ipython3",
   "version": "3.7.9"
  }
 },
 "nbformat": 4,
 "nbformat_minor": 5
}
